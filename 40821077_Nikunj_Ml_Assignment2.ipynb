{
 "cells": [
  {
   "cell_type": "markdown",
   "id": "2d89269c",
   "metadata": {},
   "source": [
    "# Assignment 2"
   ]
  },
  {
   "cell_type": "code",
   "execution_count": 1,
   "id": "981868ea",
   "metadata": {},
   "outputs": [],
   "source": [
    "import numpy as np \n",
    "import random\n",
    "import matplotlib.pyplot as plt"
   ]
  },
  {
   "cell_type": "code",
   "execution_count": 2,
   "id": "1695db42",
   "metadata": {},
   "outputs": [
    {
     "data": {
      "text/plain": [
       "<matplotlib.collections.PathCollection at 0x2ce84f1f850>"
      ]
     },
     "execution_count": 2,
     "metadata": {},
     "output_type": "execute_result"
    },
    {
     "data": {
      "image/png": "[encoded data removed]",
      "text/plain": [
       "<Figure size 432x288 with 1 Axes>"
      ]
     },
     "metadata": {
      "needs_background": "light"
     },
     "output_type": "display_data"
    }
   ],
   "source": [
    "x1 = np.random.uniform(2,4, size = (100,1000))\n",
    "x2 = np.random.uniform(0,2, size = (100,1000))\n",
    "\n",
    "plt.scatter([i[0] for i in x1],[i[1] for i in x1],[i[2] for i in x1])\n",
    "plt.scatter([i[0] for i in x2],[i[1] for i in x2],[i[2] for i in x2])"
   ]
  },
  {
   "cell_type": "code",
   "execution_count": 7,
   "id": "79250e17",
   "metadata": {},
   "outputs": [
    {
     "name": "stdout",
     "output_type": "stream",
     "text": [
      "[3.03352722 2.9833695  3.00973939 2.97453639 3.03631038]\n",
      "[0.96952153 1.08758031 1.06544383 1.07322912 1.04594807]\n"
     ]
    }
   ],
   "source": [
    "x_1 = np.mean(x1, axis = 0)\n",
    "x_2 = np.mean(x2, axis = 0)\n",
    "\n",
    "print(x_1[0:5])\n",
    "print(x_2[0:5])"
   ]
  },
  {
   "cell_type": "code",
   "execution_count": 4,
   "id": "e64d11ef",
   "metadata": {},
   "outputs": [
    {
     "name": "stdout",
     "output_type": "stream",
     "text": [
      "It belongs to Cluster2\n"
     ]
    }
   ],
   "source": [
    "def test(a):\n",
    "    test_pt = np.array(a)\n",
    "    dist1 = np.linalg.norm(a-x_1)\n",
    "    dist2 = np.linalg.norm(a-x_2)\n",
    "    if dist1 < dist2:\n",
    "        print(\"It belongs to Cluster1\")\n",
    "    else:\n",
    "        print(\"It belongs to Cluster2\")\n",
    "        \n",
    "b = np.full((1,1000), 2)\n",
    "b\n",
    "test(b)"
   ]
  },
  {
   "cell_type": "code",
   "execution_count": 5,
   "id": "7e27a6a6",
   "metadata": {},
   "outputs": [
    {
     "name": "stdout",
     "output_type": "stream",
     "text": [
      "It belongs to Cluster2\n"
     ]
    }
   ],
   "source": [
    "def test(a):\n",
    "    test_pt = np.array(a)\n",
    "    dist1 = np.sqrt(np.sum(np.power(np.subtract(x_1,a),2)))\n",
    "    dist2 = np.sqrt(np.sum(np.power(np.subtract(x_2,a),2)))\n",
    "    if dist1 < dist2:\n",
    "        print(\"It belongs to Cluster1\")\n",
    "    else:\n",
    "        print(\"It belongs to Cluster2\")\n",
    "        \n",
    "test(b)"
   ]
  }
 ],
 "metadata": {
  "kernelspec": {
   "display_name": "Python 3 (ipykernel)",
   "language": "python",
   "name": "python3"
  },
  "language_info": {
   "codemirror_mode": {
    "name": "ipython",
    "version": 3
   },
   "file_extension": ".py",
   "mimetype": "text/x-python",
   "name": "python",
   "nbconvert_exporter": "python",
   "pygments_lexer": "ipython3",
   "version": "3.9.7"
  }
 },
 "nbformat": 4,
 "nbformat_minor": 5
}

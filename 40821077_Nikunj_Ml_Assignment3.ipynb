{
 "cells": [
  {
   "cell_type": "markdown",
   "id": "8b9f36d8",
   "metadata": {},
   "source": [
    "# Assignment 3"
   ]
  },
  {
   "cell_type": "code",
   "execution_count": 1,
   "id": "1af7eb92",
   "metadata": {},
   "outputs": [],
   "source": [
    "import pandas as pd\n",
    "import numpy as np\n",
    "\n",
    "iris_data = pd.read_csv(\"Iris_dataset.csv\")"
   ]
  },
  {
   "cell_type": "code",
   "execution_count": 2,
   "id": "f8ee7be1",
   "metadata": {},
   "outputs": [
    {
     "data": {
      "text/plain": [
       "{'Iris-versicolor': 1, 'Iris-virginica': 2, 'Iris-setosa': 3}"
      ]
     },
     "execution_count": 2,
     "metadata": {},
     "output_type": "execute_result"
    }
   ],
   "source": [
    "mapping = {}\n",
    "class_index = 1\n",
    "for class_ in set(iris_data['y']):\n",
    "    mapping[class_] = class_index\n",
    "    class_index += 1\n",
    "mapping"
   ]
  },
  {
   "cell_type": "code",
   "execution_count": 3,
   "id": "e4ebf940",
   "metadata": {},
   "outputs": [],
   "source": [
    "np_iris_data = np.zeros((150,4))\n",
    "y = []\n",
    "for i in range(len(iris_data)):\n",
    "    y.append(mapping[iris_data.iloc[i][-1]])\n",
    "    np_iris_data[i] = iris_data.iloc[i][:4]"
   ]
  },
  {
   "cell_type": "code",
   "execution_count": 4,
   "id": "8b90a160",
   "metadata": {},
   "outputs": [],
   "source": [
    "x_train, x_test = np.zeros((120,4)),np.zeros((30,4))\n",
    "y_train, y_test = np.zeros((120,)),np.zeros((30,))\n",
    "for i,j in zip(range(0,150,50),range(0,120,40)):\n",
    "    x_train[j:j+40] = np_iris_data[i:i+40]\n",
    "    y_train[j:j+40] = y[i:i+40]\n",
    "    \n",
    "for i,j in zip(range(40,150,50),range(0,30,10)):\n",
    "    x_test[j:j+10] = np_iris_data[i:i+10]\n",
    "    y_test[j:j+10] = y[i:i+10]"
   ]
  },
  {
   "cell_type": "code",
   "execution_count": 5,
   "id": "3431a41c",
   "metadata": {},
   "outputs": [],
   "source": [
    "c_0 = np.array([x_train[0:40,i].mean() for i in range(len(x_train[0,:]))])\n",
    "c_1 = np.array([x_train[40:80,i].mean() for i in range(len(x_train[0,:]))])\n",
    "c_2 = np.array([x_train[80:120,i].mean() for i in range(len(x_train[0,:]))])"
   ]
  },
  {
   "cell_type": "code",
   "execution_count": 6,
   "id": "d9a874a0",
   "metadata": {},
   "outputs": [],
   "source": [
    "dist = lambda a,b: np.sqrt(np.sum((a-b)**2)).round(3)"
   ]
  },
  {
   "cell_type": "code",
   "execution_count": 7,
   "id": "d2ef85b8",
   "metadata": {},
   "outputs": [
    {
     "data": {
      "text/plain": [
       "[1, 1, 1, 1, 1]"
      ]
     },
     "execution_count": 7,
     "metadata": {},
     "output_type": "execute_result"
    }
   ],
   "source": [
    "y_test_preds = []\n",
    "for s in x_test:\n",
    "    d = [dist(s,i) for i in [c_0,c_1,c_2]]\n",
    "    y_test_preds.append((d.index(min(d)))+1)\n",
    "y_test_preds[:5]"
   ]
  },
  {
   "cell_type": "code",
   "execution_count": 8,
   "id": "cf9f9f69",
   "metadata": {},
   "outputs": [
    {
     "name": "stdout",
     "output_type": "stream",
     "text": [
      "Accuracy :  3.33  %\n"
     ]
    }
   ],
   "source": [
    "Accuracy = ((sum(y_test==y_test_preds)/len(y_test))*100).round(2)\n",
    "print(\"Accuracy : \",Accuracy,\" %\")"
   ]
  }
 ],
 "metadata": {
  "kernelspec": {
   "display_name": "Python 3 (ipykernel)",
   "language": "python",
   "name": "python3"
  },
  "language_info": {
   "codemirror_mode": {
    "name": "ipython",
    "version": 3
   },
   "file_extension": ".py",
   "mimetype": "text/x-python",
   "name": "python",
   "nbconvert_exporter": "python",
   "pygments_lexer": "ipython3",
   "version": "3.9.15"
  }
 },
 "nbformat": 4,
 "nbformat_minor": 5
}

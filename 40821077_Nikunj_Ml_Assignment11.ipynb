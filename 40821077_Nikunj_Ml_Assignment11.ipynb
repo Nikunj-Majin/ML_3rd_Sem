{
 "cells": [
  {
   "cell_type": "code",
   "execution_count": 1,
   "id": "3a104369",
   "metadata": {},
   "outputs": [],
   "source": [
    "import pandas as pd\n",
    "import numpy as np\n",
    "import matplotlib.pyplot as plt "
   ]
  },
  {
   "cell_type": "code",
   "execution_count": 2,
   "id": "07c15cb3",
   "metadata": {},
   "outputs": [
    {
     "data": {
      "text/html": [
       "<div>\n",
       "<style scoped>\n",
       "    .dataframe tbody tr th:only-of-type {\n",
       "        vertical-align: middle;\n",
       "    }\n",
       "\n",
       "    .dataframe tbody tr th {\n",
       "        vertical-align: top;\n",
       "    }\n",
       "\n",
       "    .dataframe thead th {\n",
       "        text-align: right;\n",
       "    }\n",
       "</style>\n",
       "<table border=\"1\" class=\"dataframe\">\n",
       "  <thead>\n",
       "    <tr style=\"text-align: right;\">\n",
       "      <th></th>\n",
       "      <th>Sample</th>\n",
       "      <th>GeneA</th>\n",
       "      <th>GeneB</th>\n",
       "      <th>GeneC</th>\n",
       "      <th>GeneD</th>\n",
       "      <th>Class</th>\n",
       "    </tr>\n",
       "  </thead>\n",
       "  <tbody>\n",
       "    <tr>\n",
       "      <th>0</th>\n",
       "      <td>1</td>\n",
       "      <td>1</td>\n",
       "      <td>1</td>\n",
       "      <td>1</td>\n",
       "      <td>0</td>\n",
       "      <td>normal</td>\n",
       "    </tr>\n",
       "    <tr>\n",
       "      <th>1</th>\n",
       "      <td>2</td>\n",
       "      <td>1</td>\n",
       "      <td>1</td>\n",
       "      <td>1</td>\n",
       "      <td>1</td>\n",
       "      <td>normal</td>\n",
       "    </tr>\n",
       "    <tr>\n",
       "      <th>2</th>\n",
       "      <td>3</td>\n",
       "      <td>0</td>\n",
       "      <td>1</td>\n",
       "      <td>1</td>\n",
       "      <td>0</td>\n",
       "      <td>tumor</td>\n",
       "    </tr>\n",
       "    <tr>\n",
       "      <th>3</th>\n",
       "      <td>4</td>\n",
       "      <td>-1</td>\n",
       "      <td>0</td>\n",
       "      <td>1</td>\n",
       "      <td>0</td>\n",
       "      <td>tumor</td>\n",
       "    </tr>\n",
       "    <tr>\n",
       "      <th>4</th>\n",
       "      <td>5</td>\n",
       "      <td>-1</td>\n",
       "      <td>-1</td>\n",
       "      <td>0</td>\n",
       "      <td>0</td>\n",
       "      <td>tumor</td>\n",
       "    </tr>\n",
       "    <tr>\n",
       "      <th>5</th>\n",
       "      <td>6</td>\n",
       "      <td>-1</td>\n",
       "      <td>-1</td>\n",
       "      <td>0</td>\n",
       "      <td>1</td>\n",
       "      <td>normal</td>\n",
       "    </tr>\n",
       "    <tr>\n",
       "      <th>6</th>\n",
       "      <td>7</td>\n",
       "      <td>0</td>\n",
       "      <td>-1</td>\n",
       "      <td>0</td>\n",
       "      <td>1</td>\n",
       "      <td>tumor</td>\n",
       "    </tr>\n",
       "    <tr>\n",
       "      <th>7</th>\n",
       "      <td>8</td>\n",
       "      <td>1</td>\n",
       "      <td>0</td>\n",
       "      <td>1</td>\n",
       "      <td>0</td>\n",
       "      <td>normal</td>\n",
       "    </tr>\n",
       "    <tr>\n",
       "      <th>8</th>\n",
       "      <td>9</td>\n",
       "      <td>1</td>\n",
       "      <td>-1</td>\n",
       "      <td>0</td>\n",
       "      <td>0</td>\n",
       "      <td>tumor</td>\n",
       "    </tr>\n",
       "    <tr>\n",
       "      <th>9</th>\n",
       "      <td>10</td>\n",
       "      <td>-1</td>\n",
       "      <td>0</td>\n",
       "      <td>0</td>\n",
       "      <td>0</td>\n",
       "      <td>tumor</td>\n",
       "    </tr>\n",
       "    <tr>\n",
       "      <th>10</th>\n",
       "      <td>11</td>\n",
       "      <td>1</td>\n",
       "      <td>0</td>\n",
       "      <td>0</td>\n",
       "      <td>1</td>\n",
       "      <td>tumor</td>\n",
       "    </tr>\n",
       "    <tr>\n",
       "      <th>11</th>\n",
       "      <td>12</td>\n",
       "      <td>0</td>\n",
       "      <td>0</td>\n",
       "      <td>1</td>\n",
       "      <td>1</td>\n",
       "      <td>tumor</td>\n",
       "    </tr>\n",
       "    <tr>\n",
       "      <th>12</th>\n",
       "      <td>13</td>\n",
       "      <td>0</td>\n",
       "      <td>1</td>\n",
       "      <td>0</td>\n",
       "      <td>0</td>\n",
       "      <td>tumor</td>\n",
       "    </tr>\n",
       "    <tr>\n",
       "      <th>13</th>\n",
       "      <td>14</td>\n",
       "      <td>-1</td>\n",
       "      <td>0</td>\n",
       "      <td>1</td>\n",
       "      <td>1</td>\n",
       "      <td>normal</td>\n",
       "    </tr>\n",
       "  </tbody>\n",
       "</table>\n",
       "</div>"
      ],
      "text/plain": [
       "    Sample  GeneA  GeneB  GeneC  GeneD   Class\n",
       "0        1      1      1      1      0  normal\n",
       "1        2      1      1      1      1  normal\n",
       "2        3      0      1      1      0   tumor\n",
       "3        4     -1      0      1      0   tumor\n",
       "4        5     -1     -1      0      0   tumor\n",
       "5        6     -1     -1      0      1  normal\n",
       "6        7      0     -1      0      1   tumor\n",
       "7        8      1      0      1      0  normal\n",
       "8        9      1     -1      0      0   tumor\n",
       "9       10     -1      0      0      0   tumor\n",
       "10      11      1      0      0      1   tumor\n",
       "11      12      0      0      1      1   tumor\n",
       "12      13      0      1      0      0   tumor\n",
       "13      14     -1      0      1      1  normal"
      ]
     },
     "execution_count": 2,
     "metadata": {},
     "output_type": "execute_result"
    }
   ],
   "source": [
    "df=pd.read_csv('Bayes Data.csv')\n",
    "df"
   ]
  },
  {
   "cell_type": "markdown",
   "id": "6cdcb004",
   "metadata": {},
   "source": [
    "# Splitting the data"
   ]
  },
  {
   "cell_type": "code",
   "execution_count": 3,
   "id": "07de98ee",
   "metadata": {},
   "outputs": [],
   "source": [
    "X=df.drop(['Sample','Class'],axis=1)\n",
    "Y=df.Class"
   ]
  },
  {
   "cell_type": "code",
   "execution_count": 4,
   "id": "a7f2916b",
   "metadata": {},
   "outputs": [],
   "source": [
    "X_train=X.to_numpy()\n",
    "Y_train=Y.to_numpy()"
   ]
  },
  {
   "cell_type": "code",
   "execution_count": 5,
   "id": "3df14d12",
   "metadata": {},
   "outputs": [
    {
     "data": {
      "text/plain": [
       "(array([[ 1,  1,  1,  0],\n",
       "        [ 1,  1,  1,  1],\n",
       "        [ 0,  1,  1,  0],\n",
       "        [-1,  0,  1,  0],\n",
       "        [-1, -1,  0,  0],\n",
       "        [-1, -1,  0,  1],\n",
       "        [ 0, -1,  0,  1],\n",
       "        [ 1,  0,  1,  0],\n",
       "        [ 1, -1,  0,  0],\n",
       "        [-1,  0,  0,  0],\n",
       "        [ 1,  0,  0,  1],\n",
       "        [ 0,  0,  1,  1],\n",
       "        [ 0,  1,  0,  0],\n",
       "        [-1,  0,  1,  1]], dtype=int64),\n",
       " array(['normal', 'normal', 'tumor', 'tumor', 'tumor', 'normal', 'tumor',\n",
       "        'normal', 'tumor', 'tumor', 'tumor', 'tumor', 'tumor', 'normal'],\n",
       "       dtype=object))"
      ]
     },
     "execution_count": 5,
     "metadata": {},
     "output_type": "execute_result"
    }
   ],
   "source": [
    "X_train,Y_train"
   ]
  },
  {
   "cell_type": "markdown",
   "id": "b93c478a",
   "metadata": {},
   "source": [
    "# From Scratch"
   ]
  },
  {
   "cell_type": "code",
   "execution_count": 6,
   "id": "a3f051a9",
   "metadata": {},
   "outputs": [],
   "source": [
    "\n",
    "    \n",
    "def class_prob(Y_train):\n",
    "    N_count,T_count=0,0\n",
    "    for i in range(len(Y_train)):\n",
    "        if Y_train[i]=='normal':\n",
    "            N_count+=1\n",
    "        else:\n",
    "            T_count+=1\n",
    "    total=N_count+T_count\n",
    "    return(N_count/total,T_count/total)\n",
    "def conditional_prob(feature_col,Y_train):\n",
    "    class1,class2,class3=0,0,0\n",
    "    normal_c1,tumor_c1=0,0\n",
    "    normal_c2,tumor_c2=0,0\n",
    "    normal_c3,tumor_c3=0,0\n",
    "    n=len(set(feature_col))\n",
    "    for i in range(14):\n",
    "        if n==3:\n",
    "            if feature_col[i]==-1:\n",
    "                class1+=1\n",
    "                if Y_train[i]=='normal':\n",
    "                    normal_c1+=1\n",
    "                else:\n",
    "                    tumor_c1+=1\n",
    "            elif feature_col[i]==0:\n",
    "                class2+=1\n",
    "                if Y_train[i]=='normal':\n",
    "                    normal_c2+=1\n",
    "                else:\n",
    "                    tumor_c2+=1\n",
    "            elif feature_col[i]==1:\n",
    "                class3+=1\n",
    "                if Y_train[i]=='normal':\n",
    "                    normal_c3+=1\n",
    "                else:\n",
    "                    tumor_c3+=1\n",
    "            classes={'normal_count':[normal_c1,normal_c2,normal_c3],'tumor_count':[tumor_c1,tumor_c2,tumor_c3]}\n",
    "        else:\n",
    "            if feature_col[i]==0:\n",
    "                class1+=1\n",
    "                if Y_train[i]=='normal':\n",
    "                    normal_c1+=1\n",
    "                else:\n",
    "                    tumor_c1+=1\n",
    "            elif feature_col[i]==1:\n",
    "                class2+=1\n",
    "                if Y_train[i]=='normal':\n",
    "                    normal_c2+=1\n",
    "                else:\n",
    "                    tumor_c2+=1\n",
    "            classes={'normal_count':[normal_c1,normal_c2],'tumor_count':[tumor_c1,tumor_c2]}\n",
    "    normal_prob=[]\n",
    "    tumor_prob=[]\n",
    "    for key,value in classes.items():\n",
    "        if key=='normal_count':\n",
    "            for i in range(len(classes.get(key))):\n",
    "                p=classes.get(key)[i]/sum(classes.get(key))\n",
    "                normal_prob.append(p)\n",
    "        elif key=='tumor_count':\n",
    "            for i in range(len(classes.get(key))):\n",
    "                p=classes.get(key)[i]/sum(classes.get(key))\n",
    "                tumor_prob.append(p)\n",
    "    return(normal_prob,tumor_prob)\n",
    "x_prob_n=[]\n",
    "x_prob_t=[]\n",
    "for i in range(4):\n",
    "    feature_col=X_train[:,i]\n",
    "    n_p,t_p=conditional_prob(X_train[:,i],Y_train)\n",
    "    x_prob_n.append(n_p)\n",
    "    x_prob_t.append(t_p)\n",
    "\n",
    "def testing(X_test,x_prob_n,x_prob_t):\n",
    "    p1,p2=1,1\n",
    "    n=len(X_test)   \n",
    "    for i in range(n):\n",
    "        if i<2:\n",
    "            if X_test[i]==-1:\n",
    "                p1*=x_prob_n[i][0]\n",
    "                p2*=x_prob_t[i][0]\n",
    "            elif X_test[i]==0:\n",
    "                p1*=x_prob_n[i][1]\n",
    "                p2*=x_prob_t[i][1]\n",
    "            else:\n",
    "                p1*=x_prob_n[i][2]\n",
    "                p2*=x_prob_t[i][2]\n",
    "        else:\n",
    "            if X_test[i]==0:\n",
    "                p1*=x_prob_n[i][0]\n",
    "                p2*=x_prob_t[i][0]\n",
    "            elif X_test[i]==1:\n",
    "                p1*=x_prob_n[i][1]\n",
    "                p2*=x_prob_t[i][1]\n",
    "    return p1,p2\n",
    "\n",
    "    \n",
    "    \n",
    "\n",
    "    "
   ]
  },
  {
   "cell_type": "code",
   "execution_count": 7,
   "id": "59391f01",
   "metadata": {},
   "outputs": [],
   "source": [
    "def prediction(X_test):\n",
    "        N_prob,T_prob=testing(X_test,x_prob_n,x_prob_t)\n",
    "\n",
    "        np,tp=class_prob(Y_train)\n",
    "        N_prob=np*N_prob\n",
    "        T_prob=tp*T_prob\n",
    "\n",
    "        if N_prob>T_prob:\n",
    "            return 'normal'\n",
    "        else:\n",
    "            return 'tumor'"
   ]
  },
  {
   "cell_type": "code",
   "execution_count": 8,
   "id": "c547cdd8",
   "metadata": {},
   "outputs": [],
   "source": [
    "#predicting the test data\n",
    "X_test=[1,-1,1,1]"
   ]
  },
  {
   "cell_type": "code",
   "execution_count": 9,
   "id": "2ad1a925",
   "metadata": {},
   "outputs": [
    {
     "data": {
      "text/plain": [
       "'normal'"
      ]
     },
     "execution_count": 9,
     "metadata": {},
     "output_type": "execute_result"
    }
   ],
   "source": [
    "Y_pred=prediction(X_test)\n",
    "Y_pred"
   ]
  },
  {
   "cell_type": "markdown",
   "id": "bce17a8c",
   "metadata": {},
   "source": [
    "# Using Sklearn"
   ]
  },
  {
   "cell_type": "code",
   "execution_count": 10,
   "id": "8a131b2d",
   "metadata": {},
   "outputs": [],
   "source": [
    "from sklearn.naive_bayes import GaussianNB\n",
    "NB = GaussianNB()\n",
    "decision = NB.fit(X_train, Y_train)"
   ]
  },
  {
   "cell_type": "code",
   "execution_count": 11,
   "id": "b624d911",
   "metadata": {},
   "outputs": [],
   "source": [
    "test=[[1,-1,1,1]]\n",
    "test=np.array(test)"
   ]
  },
  {
   "cell_type": "code",
   "execution_count": 12,
   "id": "b788474a",
   "metadata": {},
   "outputs": [
    {
     "name": "stdout",
     "output_type": "stream",
     "text": [
      "['normal']\n"
     ]
    }
   ],
   "source": [
    "preds = NB.predict(test)\n",
    "print(preds)"
   ]
  },
  {
   "cell_type": "code",
   "execution_count": null,
   "id": "be502fd7",
   "metadata": {},
   "outputs": [],
   "source": []
  }
 ],
 "metadata": {
  "kernelspec": {
   "display_name": "Python 3 (ipykernel)",
   "language": "python",
   "name": "python3"
  },
  "language_info": {
   "codemirror_mode": {
    "name": "ipython",
    "version": 3
   },
   "file_extension": ".py",
   "mimetype": "text/x-python",
   "name": "python",
   "nbconvert_exporter": "python",
   "pygments_lexer": "ipython3",
   "version": "3.9.15"
  }
 },
 "nbformat": 4,
 "nbformat_minor": 5
}

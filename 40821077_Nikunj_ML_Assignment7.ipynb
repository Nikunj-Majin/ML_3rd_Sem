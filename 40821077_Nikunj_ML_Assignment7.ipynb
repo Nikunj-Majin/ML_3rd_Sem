{
 "cells": [
  {
   "cell_type": "markdown",
   "id": "9e44dec7",
   "metadata": {},
   "source": [
    "# Assignment 7"
   ]
  },
  {
   "cell_type": "markdown",
   "id": "60572f7b",
   "metadata": {},
   "source": [
    "# LINEAR REGRESSION USING GRADIENT DESCENT"
   ]
  },
  {
   "cell_type": "code",
   "execution_count": 1,
   "id": "f29fce6e",
   "metadata": {},
   "outputs": [],
   "source": [
    "import numpy as np\n",
    "import pandas as pd\n",
    "import matplotlib.pyplot as plt"
   ]
  },
  {
   "cell_type": "code",
   "execution_count": 2,
   "id": "ef04f023",
   "metadata": {},
   "outputs": [],
   "source": [
    "#generating dataset\n",
    "def predictions(x,add_noise=False,mean =0,var = 0.25):\n",
    "    if not add_noise:\n",
    "        return x\n",
    "    return x+np.random.normal(mean,var,x.shape)\n",
    "x = np.linspace(-1,5,50)*1000"
   ]
  },
  {
   "cell_type": "code",
   "execution_count": 3,
   "id": "c5d53b51",
   "metadata": {
    "scrolled": true
   },
   "outputs": [],
   "source": [
    "#normalizing x\n",
    "x_transform = []\n",
    "for i in range(len(x)):\n",
    "    x_transform.append((x[i]-min(x))/(max(x)-min(x)))\n",
    "x_transform = np.array(x_transform)\n",
    "y = predictions(x_transform,True)"
   ]
  },
  {
   "cell_type": "code",
   "execution_count": 4,
   "id": "20dfa644",
   "metadata": {},
   "outputs": [
    {
     "data": {
      "image/png": "[encoded data removed]",
      "text/plain": [
       "<Figure size 432x288 with 1 Axes>"
      ]
     },
     "metadata": {
      "needs_background": "light"
     },
     "output_type": "display_data"
    }
   ],
   "source": [
    "plt.scatter(x_transform,y,color = \"green\")\n",
    "plt.plot(x_transform,x_transform,'bo--',linewidth = 3,markersize = 2,alpha = 0.5)\n",
    "plt.xlabel(\"x\")\n",
    "plt.ylabel(\"y\")\n",
    "plt.show()"
   ]
  },
  {
   "cell_type": "code",
   "execution_count": 5,
   "id": "62f682ef",
   "metadata": {},
   "outputs": [],
   "source": [
    "# Mean square error\n",
    "def mse(yt,yp):\n",
    "    return (np.sum((yt-yp)**2)/len(yt))\n",
    "\n",
    "def updates(yt,yp,x,lr,m,c):\n",
    "    m = m- lr*((-x)*(np.sum(yt-yp)/len(yt))*2)\n",
    "    c = c- lr*((-1)*(np.sum(yt-yp)/len(yt))*2)\n",
    "\n",
    "    return m,c"
   ]
  },
  {
   "cell_type": "code",
   "execution_count": 6,
   "id": "bc58aabd",
   "metadata": {},
   "outputs": [
    {
     "data": {
      "image/png": "[encoded data removed]",
      "text/plain": [
       "<Figure size 432x288 with 1 Axes>"
      ]
     },
     "metadata": {
      "needs_background": "light"
     },
     "output_type": "display_data"
    },
    {
     "data": {
      "text/plain": [
       "(2.984449932073809, 27.58777503974502)"
      ]
     },
     "execution_count": 6,
     "metadata": {},
     "output_type": "execute_result"
    },
    {
     "data": {
      "image/png": "[encoded data removed]",
      "text/plain": [
       "<Figure size 432x288 with 1 Axes>"
      ]
     },
     "metadata": {
      "needs_background": "light"
     },
     "output_type": "display_data"
    }
   ],
   "source": [
    "m,c = 10,0\n",
    "lr = 0.1\n",
    "total_loss = []\n",
    "for i in range(100):\n",
    "    yp = m*x_transform + c    \n",
    "    loss = mse(y,yp)\n",
    "    total_loss.append(loss)\n",
    "    m,c = updates(y,yp,x_transform,lr,m,c)\n",
    "plt.plot(x_transform,yp,label=i+1)\n",
    "\n",
    "plt.plot(x_transform,x_transform,color='green',marker='p')\n",
    "plt.show()\n",
    "\n",
    "plt.plot(total_loss)\n",
    "total_loss[-1], total_loss[0]"
   ]
  },
  {
   "cell_type": "code",
   "execution_count": null,
   "id": "dc1d9873",
   "metadata": {},
   "outputs": [],
   "source": []
  },
  {
   "cell_type": "markdown",
   "id": "dbceb583",
   "metadata": {},
   "source": [
    "# LINEAR REGRESSION USING GRADIENT DESCENT FOR HOUSING DATA"
   ]
  },
  {
   "cell_type": "code",
   "execution_count": 7,
   "id": "9af1ca52",
   "metadata": {
    "scrolled": true
   },
   "outputs": [
    {
     "data": {
      "text/plain": [
       "(   No  X1 transaction date  X2 house age  \\\n",
       " 0   1             2012.917          32.0   \n",
       " 1   2             2012.917          19.5   \n",
       " 2   3             2013.583          13.3   \n",
       " 3   4             2013.500          13.3   \n",
       " 4   5             2012.833           5.0   \n",
       " \n",
       "    X3 distance to the nearest MRT station  X4 number of convenience stores  \\\n",
       " 0                                84.87882                               10   \n",
       " 1                               306.59470                                9   \n",
       " 2                               561.98450                                5   \n",
       " 3                               561.98450                                5   \n",
       " 4                               390.56840                                5   \n",
       " \n",
       "    X5 latitude  X6 longitude  Y house price of unit area  \n",
       " 0     24.98298     121.54024                        37.9  \n",
       " 1     24.98034     121.53951                        42.2  \n",
       " 2     24.98746     121.54391                        47.3  \n",
       " 3     24.98746     121.54391                        54.8  \n",
       " 4     24.97937     121.54245                        43.1  ,\n",
       " Index(['No', 'X1 transaction date', 'X2 house age',\n",
       "        'X3 distance to the nearest MRT station',\n",
       "        'X4 number of convenience stores', 'X5 latitude', 'X6 longitude',\n",
       "        'Y house price of unit area'],\n",
       "       dtype='object'))"
      ]
     },
     "execution_count": 7,
     "metadata": {},
     "output_type": "execute_result"
    }
   ],
   "source": [
    "#applying linear regression on boston housing dataset\n",
    "data = pd.read_csv('Real estate.csv')\n",
    "data.head(), data.columns"
   ]
  },
  {
   "cell_type": "code",
   "execution_count": 8,
   "id": "1b5405ed",
   "metadata": {},
   "outputs": [
    {
     "data": {
      "text/plain": [
       "(414, 6)"
      ]
     },
     "execution_count": 8,
     "metadata": {},
     "output_type": "execute_result"
    }
   ],
   "source": [
    "X = data[['X1 transaction date', 'X2 house age',\n",
    "        'X3 distance to the nearest MRT station',\n",
    "        'X4 number of convenience stores', 'X5 latitude', 'X6 longitude']]\n",
    "Y = data['Y house price of unit area']\n",
    "X.shape"
   ]
  },
  {
   "cell_type": "code",
   "execution_count": 9,
   "id": "b68be732",
   "metadata": {},
   "outputs": [],
   "source": [
    "#Normalizing the features\n",
    "from sklearn.preprocessing import StandardScaler\n",
    "sc = StandardScaler()\n",
    "X_transform = sc.fit_transform(X)"
   ]
  },
  {
   "cell_type": "code",
   "execution_count": 10,
   "id": "1266c69a",
   "metadata": {
    "scrolled": true
   },
   "outputs": [
    {
     "data": {
      "text/plain": [
       "(array([[ 0.06401736,  1.94111861, -0.36980649, -0.71182914,  0.54375306,\n",
       "          0.09060904],\n",
       "        [-1.41666719, -0.8711492 , -0.77668389,  0.30788458, -0.18475479,\n",
       "          0.4768143 ],\n",
       "        [-0.82368321,  1.07986159, -0.05596189,  0.30788458,  1.69661874,\n",
       "          0.08082343],\n",
       "        [ 1.54115111,  0.84257649, -0.59201438,  0.64778915, -0.38079843,\n",
       "          0.4742048 ],\n",
       "        [-1.1219506 , -1.1084343 ,  0.621416  , -0.71182914,  1.21336713,\n",
       "         -1.03604041]]),\n",
       " 332    39.6\n",
       " 333    38.4\n",
       " 334    22.8\n",
       " 335    36.5\n",
       " 336    35.6\n",
       " Name: Y house price of unit area, dtype: float64)"
      ]
     },
     "execution_count": 10,
     "metadata": {},
     "output_type": "execute_result"
    }
   ],
   "source": [
    "#splitting test and train data\n",
    "test_train_ratio = 0.2\n",
    "num_testing_example = int(test_train_ratio*(X.shape[0]))\n",
    "num_training_example = X.shape[0]-num_testing_example\n",
    "X_train = X_transform[:num_training_example]\n",
    "Y_train = Y[:num_training_example]\n",
    "X_test = X_transform[num_training_example:]\n",
    "Y_test = Y[num_training_example:]\n",
    "X_test[0:5],Y_test[0:5]"
   ]
  },
  {
   "cell_type": "code",
   "execution_count": 11,
   "id": "6924f404",
   "metadata": {},
   "outputs": [],
   "source": [
    "#initializing the variables\n",
    "weight_vector = np.random.randn(X.shape[1])\n",
    "intercept = 0\n",
    "learning_rate = 0.001"
   ]
  },
  {
   "cell_type": "code",
   "execution_count": 12,
   "id": "aafaa622",
   "metadata": {},
   "outputs": [],
   "source": [
    "#creating the MSE loss function\n",
    "def loss(y,y_predicted):\n",
    "    s = 0\n",
    "    n = len(y)\n",
    "    for i in range(n):\n",
    "        s+=(y[i]-y_predicted[i])**2\n",
    "    return (1/n)*s"
   ]
  },
  {
   "cell_type": "code",
   "execution_count": 13,
   "id": "a35197bb",
   "metadata": {},
   "outputs": [],
   "source": [
    "#create function to predict y\n",
    "def predicted_y(weight,x,intercept):\n",
    "    y_list = []\n",
    "    for i in range(len(x)):  \n",
    "        y_list.append((weight@x[i])+intercept)\n",
    "    return np.array(y_list)"
   ]
  },
  {
   "cell_type": "code",
   "execution_count": 14,
   "id": "1b5e60e5",
   "metadata": {},
   "outputs": [],
   "source": [
    "#create function to differentiate weight\n",
    "def dldw(x,y,y_predicted):\n",
    "    n = len(y)\n",
    "    s = 0\n",
    "    for i in range(n):\n",
    "        s+= (-x[i]*(y[i]-y_predicted[i]))\n",
    "    return (2/n)*s"
   ]
  },
  {
   "cell_type": "code",
   "execution_count": 15,
   "id": "52504987",
   "metadata": {},
   "outputs": [],
   "source": [
    "#create function to differentiate intercept\n",
    "def dldb(y,y_predicted):\n",
    "    n = len(y)\n",
    "    s = 0\n",
    "    for i in range(n):\n",
    "        s+= (-(y[i]-y_predicted[i]))\n",
    "    return (2/n)*s"
   ]
  },
  {
   "cell_type": "code",
   "execution_count": 16,
   "id": "158d7b78",
   "metadata": {},
   "outputs": [],
   "source": [
    "# gradient function\n",
    "def gradient_descent(x,y):\n",
    "    weight_vector=np.random.randn(x.shape[1])\n",
    "    intercept=0\n",
    "    epoch = 10000\n",
    "    n = len(x)\n",
    "    linear_loss=[]\n",
    "    learning_rate = 0.001\n",
    "    for i in range(epoch):\n",
    "        y_predicted = predicted_y(weight_vector,x,intercept)\n",
    "        weight_vector = weight_vector - learning_rate *dldw(x,y,y_predicted) \n",
    "        intercept = intercept - learning_rate * dldb(y,y_predicted)\n",
    "        linear_loss.append(loss(y,y_predicted))\n",
    "        \n",
    "    plt.plot(np.arange(epoch),linear_loss[:])\n",
    "    plt.xlabel(\"number of epoch\")\n",
    "    plt.ylabel(\"loss\")\n",
    "    return weight_vector,intercept"
   ]
  },
  {
   "cell_type": "code",
   "execution_count": 17,
   "id": "46dc2c4f",
   "metadata": {},
   "outputs": [
    {
     "data": {
      "text/plain": [
       "array([ 0.185289  ,  0.47184427, -1.06584549, -0.2955879 ,  2.31176478,\n",
       "        0.40096218])"
      ]
     },
     "execution_count": 17,
     "metadata": {},
     "output_type": "execute_result"
    }
   ],
   "source": [
    "weight_vector"
   ]
  },
  {
   "cell_type": "code",
   "execution_count": 18,
   "id": "1f7264ea",
   "metadata": {
    "scrolled": true
   },
   "outputs": [
    {
     "data": {
      "image/png": "[encoded data removed]",
      "text/plain": [
       "<Figure size 432x288 with 1 Axes>"
      ]
     },
     "metadata": {
      "needs_background": "light"
     },
     "output_type": "display_data"
    }
   ],
   "source": [
    "w,b=gradient_descent(X_train,Y_train)"
   ]
  },
  {
   "cell_type": "code",
   "execution_count": 19,
   "id": "03fba7c8",
   "metadata": {},
   "outputs": [],
   "source": [
    "def predict(inp):\n",
    "    y_list = []\n",
    "    for i in range(len(inp)):\n",
    "        y_list.append(w@inp[i]+b)\n",
    "    return y_list"
   ]
  },
  {
   "cell_type": "code",
   "execution_count": 24,
   "id": "927f8977",
   "metadata": {
    "scrolled": true
   },
   "outputs": [
    {
     "data": {
      "text/plain": [
       "[32.83604024543024,\n",
       " 43.19601494192038,\n",
       " 39.96919957260633,\n",
       " 41.54973115304131,\n",
       " 38.1482395607154]"
      ]
     },
     "execution_count": 24,
     "metadata": {},
     "output_type": "execute_result"
    }
   ],
   "source": [
    "y_pred = predict(X_test)\n",
    "y_pred[0:5]"
   ]
  },
  {
   "cell_type": "code",
   "execution_count": 21,
   "id": "203cd229",
   "metadata": {},
   "outputs": [
    {
     "data": {
      "text/html": [
       "<div>\n",
       "<style scoped>\n",
       "    .dataframe tbody tr th:only-of-type {\n",
       "        vertical-align: middle;\n",
       "    }\n",
       "\n",
       "    .dataframe tbody tr th {\n",
       "        vertical-align: top;\n",
       "    }\n",
       "\n",
       "    .dataframe thead th {\n",
       "        text-align: right;\n",
       "    }\n",
       "</style>\n",
       "<table border=\"1\" class=\"dataframe\">\n",
       "  <thead>\n",
       "    <tr style=\"text-align: right;\">\n",
       "      <th></th>\n",
       "      <th>Y_Actual</th>\n",
       "      <th>Y_predicted</th>\n",
       "    </tr>\n",
       "  </thead>\n",
       "  <tbody>\n",
       "    <tr>\n",
       "      <th>332</th>\n",
       "      <td>39.6</td>\n",
       "      <td>32.8</td>\n",
       "    </tr>\n",
       "    <tr>\n",
       "      <th>333</th>\n",
       "      <td>38.4</td>\n",
       "      <td>43.2</td>\n",
       "    </tr>\n",
       "    <tr>\n",
       "      <th>334</th>\n",
       "      <td>22.8</td>\n",
       "      <td>40.0</td>\n",
       "    </tr>\n",
       "    <tr>\n",
       "      <th>335</th>\n",
       "      <td>36.5</td>\n",
       "      <td>41.5</td>\n",
       "    </tr>\n",
       "    <tr>\n",
       "      <th>336</th>\n",
       "      <td>35.6</td>\n",
       "      <td>38.1</td>\n",
       "    </tr>\n",
       "    <tr>\n",
       "      <th>...</th>\n",
       "      <td>...</td>\n",
       "      <td>...</td>\n",
       "    </tr>\n",
       "    <tr>\n",
       "      <th>409</th>\n",
       "      <td>15.4</td>\n",
       "      <td>14.6</td>\n",
       "    </tr>\n",
       "    <tr>\n",
       "      <th>410</th>\n",
       "      <td>50.0</td>\n",
       "      <td>50.1</td>\n",
       "    </tr>\n",
       "    <tr>\n",
       "      <th>411</th>\n",
       "      <td>40.6</td>\n",
       "      <td>47.0</td>\n",
       "    </tr>\n",
       "    <tr>\n",
       "      <th>412</th>\n",
       "      <td>52.5</td>\n",
       "      <td>44.4</td>\n",
       "    </tr>\n",
       "    <tr>\n",
       "      <th>413</th>\n",
       "      <td>63.9</td>\n",
       "      <td>54.2</td>\n",
       "    </tr>\n",
       "  </tbody>\n",
       "</table>\n",
       "<p>82 rows × 2 columns</p>\n",
       "</div>"
      ],
      "text/plain": [
       "     Y_Actual  Y_predicted\n",
       "332      39.6         32.8\n",
       "333      38.4         43.2\n",
       "334      22.8         40.0\n",
       "335      36.5         41.5\n",
       "336      35.6         38.1\n",
       "..        ...          ...\n",
       "409      15.4         14.6\n",
       "410      50.0         50.1\n",
       "411      40.6         47.0\n",
       "412      52.5         44.4\n",
       "413      63.9         54.2\n",
       "\n",
       "[82 rows x 2 columns]"
      ]
     },
     "execution_count": 21,
     "metadata": {},
     "output_type": "execute_result"
    }
   ],
   "source": [
    "df_predict = pd.DataFrame({\"Y_Actual\":Y_test,\"Y_predicted\":np.round(y_pred,1)})\n",
    "df_predict"
   ]
  },
  {
   "cell_type": "code",
   "execution_count": 22,
   "id": "80ac6be4",
   "metadata": {},
   "outputs": [
    {
     "data": {
      "text/plain": [
       "0.5923343936452615"
      ]
     },
     "execution_count": 22,
     "metadata": {},
     "output_type": "execute_result"
    }
   ],
   "source": [
    "def accuracy(actual,predicted):\n",
    "    corr_matrix = np.corrcoef(actual,predicted)\n",
    "    corr = corr_matrix[0,1]\n",
    "    R2 = corr**2\n",
    "    return R2\n",
    "accuracy(Y_test,y_pred)"
   ]
  },
  {
   "cell_type": "code",
   "execution_count": 23,
   "id": "a5c8ff34",
   "metadata": {},
   "outputs": [
    {
     "data": {
      "text/plain": [
       "0.592074284170836"
      ]
     },
     "execution_count": 23,
     "metadata": {},
     "output_type": "execute_result"
    }
   ],
   "source": [
    "from sklearn.metrics import r2_score\n",
    "r2_score(Y_test,y_pred)"
   ]
  }
 ],
 "metadata": {
  "kernelspec": {
   "display_name": "Python 3 (ipykernel)",
   "language": "python",
   "name": "python3"
  },
  "language_info": {
   "codemirror_mode": {
    "name": "ipython",
    "version": 3
   },
   "file_extension": ".py",
   "mimetype": "text/x-python",
   "name": "python",
   "nbconvert_exporter": "python",
   "pygments_lexer": "ipython3",
   "version": "3.9.15"
  }
 },
 "nbformat": 4,
 "nbformat_minor": 5
}
